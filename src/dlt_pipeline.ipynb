{
 "cells": [
  {
   "cell_type": "markdown",
   "metadata": {
    "application/vnd.databricks.v1+cell": {
     "cellMetadata": {},
     "inputWidgets": {},
     "nuid": "9a626959-61c8-4bba-84d2-2a4ecab1f7ec",
     "showTitle": false,
     "title": ""
    }
   },
   "source": [
    "# DLT pipeline\n",
    "\n",
    "This Delta Live Tables (DLT) definition is executed using a pipeline defined in resources/realtime_stock_pipeline.yml."
   ]
  },
  {
   "cell_type": "code",
   "execution_count": null,
   "metadata": {
    "application/vnd.databricks.v1+cell": {
     "cellMetadata": {},
     "inputWidgets": {},
     "nuid": "9198e987-5606-403d-9f6d-8f14e6a4017f",
     "showTitle": false,
     "title": ""
    },
    "vscode": {
     "languageId": "sql"
    }
   },
   "outputs": [],
   "source": [
    "\n",
    "CREATE OR REFRESH STREAMING TABLE raws_quotes\n",
    "COMMENT \"This table represent raws data from adls storage\"\n",
    "AS \n",
    "SELECT * FROM cloud_files(\"/mnt/container_name/storage_account_name/directory_name/**/**/**/**/**/**/*.avro\", 'avro')"
   ]
  },
  {
   "cell_type": "markdown",
   "metadata": {},
   "source": [
    "# Bronze Table"
   ]
  },
  {
   "cell_type": "code",
   "execution_count": null,
   "metadata": {
    "application/vnd.databricks.v1+cell": {
     "cellMetadata": {},
     "inputWidgets": {},
     "nuid": "3fc19dba-61fd-4a89-8f8c-24fee63bfb14",
     "showTitle": false,
     "title": ""
    },
    "vscode": {
     "languageId": "sql"
    }
   },
   "outputs": [],
   "source": [
    "\n",
    "CREATE OR REFRESH STREAMING TABLE bronze_quotes\n",
    "COMMENT \"This table represent bronze layer for quotes\"\n",
    "AS \n",
    "SELECT \n",
    "    body.ticker,\n",
    "    body.c as current_price,\n",
    "    body.d as change,\n",
    "    body.dp as percent_change,\n",
    "    body.h as high_price_of_the_day,\n",
    "    body.l as low_price_of_the_day,\n",
    "    body.o as open_price,\n",
    "    body.pc as previous_close_price,\n",
    "    body.t as timestamp \n",
    "FROM (\n",
    "    SELECT \n",
    "    from_json(CAST(body AS STRING), 'ticker STRING, c FLOAT, d FLOAT, dp FLOAT, h FLOAT, l FLOAT, o FLOAT, pc FLOAT, t TIMESTAMP') as body\n",
    "    FROM STREAM(LIVE.raws_quotes)\n",
    ");\n"
   ]
  },
  {
   "cell_type": "markdown",
   "metadata": {},
   "source": [
    "# Silver Table"
   ]
  },
  {
   "cell_type": "code",
   "execution_count": null,
   "metadata": {
    "vscode": {
     "languageId": "sql"
    }
   },
   "outputs": [],
   "source": [
    "\n",
    "CREATE OR REFRESH STREAMING TABLE silver_quote(\n",
    "    CONSTRAINT valid_ticker EXPECT (ticker IS NOT NULL) ON VIOLATION DROP ROW,\n",
    "    CONSTRAINT valid_current_price EXPECT (price IS NOT NULL) ON VIOLATION DROP ROW\n",
    ")\n",
    "COMMENT \"Aggregated data with constraints partitoned by date and average price by hours\"\n",
    "AS \n",
    "SELECT \n",
    "    ticker,\n",
    "    AVG(current_price) AS price,\n",
    "    MIN(low_price_of_the_day) as low_price_of_the_hours,\n",
    "    MAX(high_price_of_the_day) as high_price_of_the_hours,\n",
    "    any_value(open_price) as open_price,\n",
    "    any_value(previous_close_price) as previous_close_price,\n",
    "    HOUR(CAST(timestamp as TIMESTAMP)) as hour,\n",
    "    DATE(timestamp) as date\n",
    "FROM STREAM(LIVE.bronze_quotes)\n",
    "GROUP BY ticker,DATE(timestamp), HOUR(CAST(timestamp AS TIMESTAMP));\n"
   ]
  }
 ],
 "metadata": {
  "application/vnd.databricks.v1+notebook": {
   "dashboards": [],
   "language": "python",
   "notebookMetadata": {
    "pythonIndentUnit": 2
   },
   "notebookName": "dlt_pipeline",
   "widgets": {}
  },
  "kernelspec": {
   "display_name": "Python 3",
   "language": "python",
   "name": "python3"
  },
  "language_info": {
   "name": "python",
   "version": "3.11.4"
  }
 },
 "nbformat": 4,
 "nbformat_minor": 0
}
