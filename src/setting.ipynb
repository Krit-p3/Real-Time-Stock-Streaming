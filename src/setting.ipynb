{
 "cells": [
  {
   "cell_type": "markdown",
   "metadata": {},
   "source": [
    "## Enable auto compaction and optimized writes in Delta Lake"
   ]
  },
  {
   "cell_type": "code",
   "execution_count": null,
   "metadata": {},
   "outputs": [],
   "source": [
    "spark.conf.set(\"spark.databricks.delta.optimizeWrite.enabled\", \"true\")\n",
    "spark.conf.set(\"spark.databricks.delta.autoCompact.enabled\", \"true\")\n",
    "spark.conf.set(\"spark.databricks.delta.formatCheck.enabled\", \"false\")"
   ]
  },
  {
   "cell_type": "markdown",
   "metadata": {},
   "source": [
    "## Mounting Databricks with Azure Data Lake Gen 2 (ADLS2)"
   ]
  },
  {
   "cell_type": "code",
   "execution_count": null,
   "metadata": {},
   "outputs": [],
   "source": [
    "#Storage account information\n",
    "storage_account_name = dbutils.secrets.get(scope=<scope_name>, key=<storage_name>)\n",
    "storage_account_key = dbutils.secrets.get(scope=<scope_name>, key=<storage_name>)\n",
    "container_name = dbutils.secrets.get(scope=<scope_name>, key=<storage_name>)\n",
    "\n",
    "#Mounting storage \n",
    "dbutils.fs.mount(\n",
    "    source=f\"wasbs://{container_name}@{storage_account_name}.blob.core.windows.net/\",\n",
    "    mount_point=\"/mnt/delta\",\n",
    "    extra_configs={f\"fs.azure.account.key.{storage_account_name}.blob.core.windows.net\": storage_account_key}\n",
    ")"
   ]
  }
 ],
 "metadata": {
  "language_info": {
   "name": "python"
  }
 },
 "nbformat": 4,
 "nbformat_minor": 2
}
